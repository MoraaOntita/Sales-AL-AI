{
 "cells": [
  {
   "cell_type": "code",
   "execution_count": 4,
   "metadata": {},
   "outputs": [],
   "source": [
    "import os\n",
    "import gdown\n"
   ]
  },
  {
   "cell_type": "code",
   "execution_count": 5,
   "metadata": {},
   "outputs": [],
   "source": [
    "url = 'https://docs.google.com/document/d/1ivKxJzrHF79e-p1oQQBGfy3Pa9Yun9Zm/edit?usp=sharing&ouid=109341051897683575625&rtpof=true&sd=true'"
   ]
  },
  {
   "cell_type": "code",
   "execution_count": 6,
   "metadata": {},
   "outputs": [
    {
     "data": {
      "text/plain": [
       "'1ivKxJzrHF79e-p1oQQBGfy3Pa9Yun9Zm'"
      ]
     },
     "execution_count": 6,
     "metadata": {},
     "output_type": "execute_result"
    }
   ],
   "source": [
    "file_id = url.split(\"/\")[-2]\n",
    "file_id"
   ]
  },
  {
   "cell_type": "code",
   "execution_count": 9,
   "metadata": {},
   "outputs": [
    {
     "name": "stderr",
     "output_type": "stream",
     "text": [
      "Downloading...\n",
      "From: https://drive.google.com/uc?/export=download&id=1ivKxJzrHF79e-p1oQQBGfy3Pa9Yun9Zm\n",
      "To: /home/moraa-ontita/Documents/GenAI/Sales AI/artifacts/DataIngestion/alkhemy_brands_overview_updated.docx\n",
      "100%|██████████| 22.4k/22.4k [00:00<00:00, 10.8MB/s]"
     ]
    },
    {
     "name": "stdout",
     "output_type": "stream",
     "text": [
      "File downloaded to: /home/moraa-ontita/Documents/GenAI/Sales AI/artifacts/DataIngestion/alkhemy_brands_overview_updated.docx\n"
     ]
    },
    {
     "name": "stderr",
     "output_type": "stream",
     "text": [
      "\n"
     ]
    }
   ],
   "source": [
    "prefix = 'https://drive.google.com/uc?/export=download&id='\n",
    "\n",
    "# Define the target folder (root directory)\n",
    "destination_folder = '/home/moraa-ontita/Documents/GenAI/Sales AI/artifacts/DataIngestion/'\n",
    "\n",
    "# Ensure the folder exists, create if it doesn't\n",
    "os.makedirs(destination_folder, exist_ok=True)\n",
    "\n",
    "# Define the file name (you can customize this or extract it from the Google Drive metadata)\n",
    "file_name = 'alkhemy_brands_overview_updated.docx'\n",
    "\n",
    "# Full path for the destination file\n",
    "destination_path = os.path.join(destination_folder, file_name)\n",
    "\n",
    "# Download the file and save it to the specified folder\n",
    "gdown.download(prefix + file_id, destination_path, quiet=False)\n",
    "\n",
    "print(f'File downloaded to: {destination_path}')"
   ]
  },
  {
   "cell_type": "code",
   "execution_count": null,
   "metadata": {},
   "outputs": [],
   "source": []
  }
 ],
 "metadata": {
  "kernelspec": {
   "display_name": "venv",
   "language": "python",
   "name": "python3"
  },
  "language_info": {
   "codemirror_mode": {
    "name": "ipython",
    "version": 3
   },
   "file_extension": ".py",
   "mimetype": "text/x-python",
   "name": "python",
   "nbconvert_exporter": "python",
   "pygments_lexer": "ipython3",
   "version": "3.12.3"
  }
 },
 "nbformat": 4,
 "nbformat_minor": 2
}
