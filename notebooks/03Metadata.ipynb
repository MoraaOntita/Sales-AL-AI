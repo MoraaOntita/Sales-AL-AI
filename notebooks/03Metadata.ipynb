{
 "cells": [
  {
   "cell_type": "code",
   "execution_count": 1,
   "metadata": {},
   "outputs": [],
   "source": [
    "import os\n",
    "import json\n",
    "from datetime import datetime\n",
    "\n"
   ]
  },
  {
   "cell_type": "code",
   "execution_count": 2,
   "metadata": {},
   "outputs": [],
   "source": [
    "# Path to the loaded .txt document\n",
    "file_path = \"/home/moraa-ontita/Documents/GenAI/Sales AI/artifacts/loader/loaded_document.txt\"\n",
    "\n",
    "# Read the content of the text document\n",
    "with open(file_path, 'r') as file:\n",
    "    document_content = file.read()\n",
    "\n",
    "# Define the folder for storing metadata\n",
    "metadata_folder = \"/home/moraa-ontita/Documents/GenAI/Sales AI/artifacts/metadata\"\n",
    "os.makedirs(metadata_folder, exist_ok=True)\n",
    "\n",
    "# Create metadata for the document\n",
    "metadata = {\n",
    "    \"document_id\": os.path.basename(file_path),  # Unique identifier based on the file name\n",
    "    \"document_title\": \"Alkhemy Brands Overview\",  # Set manually or extract from document\n",
    "    \"author\": \"Unknown\",  # Replace with actual if known\n",
    "    \"document_type\": \"Overview\",  # Could be report, summary, etc.\n",
    "    \"created_at\": datetime.now().strftime(\"%Y-%m-%d %H:%M:%S\"),  # Timestamp of metadata creation\n",
    "    \"word_count\": len(document_content.split()),  # Count words in the document content\n",
    "    \"document_preview\": document_content[:500],  # First 500 characters as preview\n",
    "    \"embedding_vector\": None,  # Will populate after embedding generation\n",
    "    \"tags\": [\"sales\", \"overview\", \"brands\"]  # Custom tags based on document content\n",
    "}\n",
    "\n"
   ]
  },
  {
   "cell_type": "code",
   "execution_count": 3,
   "metadata": {},
   "outputs": [
    {
     "name": "stdout",
     "output_type": "stream",
     "text": [
      "Metadata saved at: /home/moraa-ontita/Documents/GenAI/Sales AI/artifacts/metadata/loaded_document.txt_metadata.json\n"
     ]
    }
   ],
   "source": [
    "# Save metadata to a JSON file\n",
    "metadata_path = os.path.join(metadata_folder, f\"{metadata['document_id']}_metadata.json\")\n",
    "with open(metadata_path, \"w\") as metadata_file:\n",
    "    json.dump(metadata, metadata_file, indent=4)\n",
    "\n",
    "print(f\"Metadata saved at: {metadata_path}\")"
   ]
  }
 ],
 "metadata": {
  "kernelspec": {
   "display_name": "venv",
   "language": "python",
   "name": "python3"
  },
  "language_info": {
   "codemirror_mode": {
    "name": "ipython",
    "version": 3
   },
   "file_extension": ".py",
   "mimetype": "text/x-python",
   "name": "python",
   "nbconvert_exporter": "python",
   "pygments_lexer": "ipython3",
   "version": "3.12.3"
  }
 },
 "nbformat": 4,
 "nbformat_minor": 2
}
