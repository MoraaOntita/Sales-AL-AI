{
 "cells": [
  {
   "cell_type": "code",
   "execution_count": 4,
   "metadata": {},
   "outputs": [],
   "source": [
    "from langchain_community.document_loaders import UnstructuredWordDocumentLoader"
   ]
  },
  {
   "cell_type": "code",
   "execution_count": 5,
   "metadata": {},
   "outputs": [
    {
     "name": "stdout",
     "output_type": "stream",
     "text": [
      "Alkhemy Brands Limited: Overview\n",
      "\n",
      "History and Founder\n",
      "\n",
      "Alkhemy Brands Limited was established in 2015 in Nairobi, Kenya. The company has quickly emerged as a leader in fast-moving consumer goods (FMCG) focusing on personal care and beauty products. While details of the company's founder remain unavailable publicly, Alkhemy Brands has strategically positioned itself to address the specific hair and skincare needs of African consumers. The company operates with a philosophy of promoting confidence, vibrancy, and health for individuals while delivering high-quality products.\n",
      "\n",
      "Products and Benefits\n",
      "\n",
      "Alkhemy Brands Limited offers a wide range of products through its two primary brands: Mikalla (Hair Care) and Honey & Butter (Skin Care). These products are formulated to meet the unique requirements of African hair and skin, ensuring nourishment, hydration, and overall care.\n",
      "\n",
      "1. Hair Care Products - Mikalla\n",
      "\n",
      "Mikalla products cater to various hair care needs, offering a comprehensive range of solutions tailored to maintain and enhance African hair health and manageability. Each product is meticulously formulated to address specific concerns, ensuring optimal results for every hair type.\n",
      "\n",
      "- **Shampoos and Conditioners**: These products cleanse the scalp and hair thoroughly without stripping away natural oils. The shampoos gently remove dirt, build-up, and impurities, while the conditioners detangle and soften the hair, leaving it smooth, manageable, and hydrated. Regular use helps maintain moisture balance, making the hair less prone to dryness.\n",
      "\n",
      "- **Deep Conditioners and Treatments**: Designed for intense nourishment, these products penetrate deep into the hair shaft to repair damage caused by styling, heat, and environmental stressors. They restore strength, elasticity, and shine, reducing breakage and split ends. Deep conditioning treatments are particularly beneficial for hair types prone to brittleness, ensuring a healthier, more resilient texture.\n",
      "\n",
      "- **Styling Gels, Oils, Pomades, Sprays, and Sheens**: This category provides styling versatility for different hair preferences and occasions. Gels offer strong hold for defined styles without flaking, while pomades and oils enhance shine and lock in moisture. Sprays and sheens add a finishing touch by providing a protective layer that guards against dryness, frizz, and dullness, ensuring the hair remains sleek and vibrant throughout the day. These products also promote scalp health by reducing dryness and irritation.\n",
      "\n",
      "Mikalla products are specially crafted to cater to the unique needs of African hair, which often faces challenges like dryness, breakage, and difficulty in styling. By combining moisture retention, damage repair, and styling support, Mikalla ensures hair remains strong, healthy, and beautiful.\n",
      "\n",
      "2. Skin Care Products - Honey & Butter\n",
      "\n",
      "The Honey & Butter range focuses on skincare and offers a variety of solutions to address the needs of different skin types, helping individuals achieve healthy, glowing skin.\n",
      "\n",
      "Lotions and Creams: These products are enriched with moisturizing ingredients that deeply hydrate and soften the skin. They work to improve the skin's elasticity, ensuring it remains supple, smooth, and youthful-looking. The lotions and creams form a protective layer that locks in moisture, preventing dryness and flakiness, which are common concerns in varying climates. With consistent use, they help maintain an even skin tone and enhance the skin's natural glow.\n",
      "\n",
      "Scrubs and Toners: The scrubs are formulated with gentle exfoliating agents that remove dead skin cells, impurities, and excess oil, revealing fresher, smoother skin underneath. Regular exfoliation encourages cell renewal, helping to prevent dullness and rough texture. Toners, on the other hand, balance the skin's pH levels while tightening pores and refining the skin surface. They prepare the skin for moisturizing, ensuring maximum absorption of nourishing ingredients.\n",
      "\n",
      "Together, these products work synergistically to rejuvenate and nourish the skin, leaving it radiant, soft, and refreshed. The Honey & Butter range prioritizes hydration, smoothness, and overall skin health, making it suitable for daily use to maintain a youthful and revitalized appearance.\n",
      "\n",
      "3. Home and Hygiene Care\n",
      "\n",
      "Alkhemy Brands also manufactures hygiene products designed to promote healthy lifestyles in homes. These include multi-purpose cleaning and hygiene solutions.\n",
      "\n",
      "Mission and Impact\n",
      "\n",
      "Alkhemy Brands operates with the slogan *'Good for Mankind'* and focuses on enhancing external beauty while contributing to inner confidence and wellness. Their products are affordable, natural-inspired, and tailored to promote healthier lifestyles. The company's impact extends to local communities by empowering individuals to feel confident and vibrant.\n",
      "\n",
      "Revenue and Market Reach\n",
      "\n",
      "While specific revenue figures are not publicly available, Alkhemy Brands has shown significant growth since its inception. The company has established a robust presence in Kenya and across East Africa, leveraging both retail and online distribution channels to serve its customers effectively.\n",
      "\n",
      "Conclusion\n",
      "\n",
      "Alkhemy Brands Limited stands out as a leading manufacturer of personal care and cosmetic products in Africa. Through its flagship brands Mikalla and Honey & Butter, the company continues to address the unique beauty needs of African consumers. With its commitment to quality, affordability, and sustainability, Alkhemy Brands is well-positioned to further expand its impact across the continent.\n"
     ]
    }
   ],
   "source": [
    "# Define the path to your .docx document\n",
    "file_path = \"/home/moraa-ontita/Documents/GenAI/Sales AI/artifacts/DataIngestion/alkhemy_brands_overview_updated.docx\"\n",
    "\n",
    "# Initialize the loader for .docx\n",
    "loader = UnstructuredWordDocumentLoader(file_path)\n",
    "\n",
    "# Load the document\n",
    "documents = loader.load()\n",
    "\n",
    "# Print the content of the first document (usually it's a list with a single document)\n",
    "print(documents[0].page_content)  # Displays the text content of the first document\n"
   ]
  },
  {
   "cell_type": "code",
   "execution_count": null,
   "metadata": {},
   "outputs": [],
   "source": []
  }
 ],
 "metadata": {
  "kernelspec": {
   "display_name": "venv",
   "language": "python",
   "name": "python3"
  },
  "language_info": {
   "codemirror_mode": {
    "name": "ipython",
    "version": 3
   },
   "file_extension": ".py",
   "mimetype": "text/x-python",
   "name": "python",
   "nbconvert_exporter": "python",
   "pygments_lexer": "ipython3",
   "version": "3.12.3"
  }
 },
 "nbformat": 4,
 "nbformat_minor": 2
}
